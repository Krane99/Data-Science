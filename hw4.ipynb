{
 "cells": [
  {
   "cell_type": "code",
   "execution_count": 31,
   "id": "27c858a8-21ac-4ea6-aa07-0e5f81306b48",
   "metadata": {},
   "outputs": [],
   "source": [
    "months = ['쌍', '쇠', '복', '돌', '팽','육', '쌍', '개', '칠', '갑', '삼', '방']\n",
    "days = ['봉', '구', '욕', '포', '똥', '삼', '식', '석', '놈', '님', '년', '돌', '단', '득', '방', '질', '장', '걸', '래', '룡', '동', '순', '자', '박', '창', '언', '것', '포', '만', '두', '국']"
   ]
  },
  {
   "cell_type": "code",
   "execution_count": 34,
   "id": "da4eed76-53ee-4cda-b992-aa37f014b0aa",
   "metadata": {},
   "outputs": [
    {
     "name": "stdout",
     "output_type": "stream",
     "text": [
      "당신의 조선시대 이름은 김팽룡 입니다.\n"
     ]
    }
   ],
   "source": [
    "def get_my_chosun_name(family_name, month, day):\n",
    "    month = months[month - 1]\n",
    "    day = days[day - 1]\n",
    "    full_name = family_name + month + day\n",
    "    print(\"당신의 조선시대 이름은\", full_name, \"입니다.\")\n",
    "    \n",
    "get_my_chosun_name('김', 5, 20)"
   ]
  }
 ],
 "metadata": {
  "kernelspec": {
   "display_name": "Python 3 (ipykernel)",
   "language": "python",
   "name": "python3"
  },
  "language_info": {
   "codemirror_mode": {
    "name": "ipython",
    "version": 3
   },
   "file_extension": ".py",
   "mimetype": "text/x-python",
   "name": "python",
   "nbconvert_exporter": "python",
   "pygments_lexer": "ipython3",
   "version": "3.9.12"
  }
 },
 "nbformat": 4,
 "nbformat_minor": 5
}
